{
  "nbformat": 4,
  "nbformat_minor": 0,
  "metadata": {
    "colab": {
      "name": "For_circle.ipynb",
      "provenance": [],
      "include_colab_link": true
    },
    "kernelspec": {
      "name": "python3",
      "display_name": "Python 3"
    },
    "accelerator": "GPU"
  },
  "cells": [
    {
      "cell_type": "markdown",
      "metadata": {
        "id": "view-in-github",
        "colab_type": "text"
      },
      "source": [
        "<a href=\"https://colab.research.google.com/github/F1nc/IoTHackDev/blob/master/For_circle.ipynb\" target=\"_parent\"><img src=\"https://colab.research.google.com/assets/colab-badge.svg\" alt=\"Open In Colab\"/></a>"
      ]
    },
    {
      "cell_type": "markdown",
      "metadata": {
        "id": "K1e_DVhej8u0",
        "colab_type": "text"
      },
      "source": [
        "Всем привет, сегодня я расскажу вам про цикл For в c++. Я слышал, что некоторые из вас уже сталкивались с ним.... Это хорошо. Итак, давайте вы закроете свои компы и мы поступим так. Я буду писать код на своем пк и мы с вами будем все вместе смотреть и вникать в происходящее.\n",
        "\n",
        "На прошлом уроке, Роман Андреевич рассказывал вам про цикл Wile. Как устроен это цикл?( кусок кода выполняется пока верно условие)\n",
        "\n",
        "Давайте решим такую задачку. Нам надо посчитать сумму от одного до 100."
      ]
    },
    {
      "cell_type": "markdown",
      "metadata": {
        "id": "vqnQHnC4qmbX",
        "colab_type": "text"
      },
      "source": [
        "Для начала давайте создадим основу для программы\n",
        "Создадим переменную summ = 0  изначально\n",
        "заведем переменную i = 1\n",
        "Прописываем цикл while"
      ]
    },
    {
      "cell_type": "code",
      "metadata": {
        "id": "kGh2GCnjmqnk",
        "colab_type": "code",
        "outputId": "9b45d6b1-1775-4eaa-ac22-6e81af5b61aa",
        "colab": {
          "base_uri": "https://localhost:8080/",
          "height": 34
        }
      },
      "source": [
        "%%cu\n",
        "#include <iostream>\n",
        "\n",
        "using namespace std;\n",
        "\n",
        "int main(){\n",
        "    int summ = 0;\n",
        "    int i = 1;\n",
        "\n",
        "    while (i <= 100){\n",
        "        summ += i;\n",
        "        i++;\n",
        "    }\n",
        "    \n",
        "    cout << summ;\n",
        "    return 0;\n",
        "}\n"
      ],
      "execution_count": 0,
      "outputs": [
        {
          "output_type": "stream",
          "text": [
            "5050\n"
          ],
          "name": "stdout"
        }
      ]
    },
    {
      "cell_type": "markdown",
      "metadata": {
        "id": "3qOtqDthr-PD",
        "colab_type": "text"
      },
      "source": [
        "Но писать так каждый раз очень сложно и неприятно. Поэтому существует упращенная запись такого цикла while. For используется когда понятно сколько конкретно итераций необходимо сделать.\n",
        "Стуктура For такая:"
      ]
    },
    {
      "cell_type": "code",
      "metadata": {
        "id": "bf9ozxQft8bU",
        "colab_type": "code",
        "colab": {}
      },
      "source": [
        "%%cu\n",
        "\n",
        "for (/*выражение 1*/; /*выражение 2*/; /*выражение 3*/){\n",
        "    /*Тело цикла*/\n",
        "}\n"
      ],
      "execution_count": 0,
      "outputs": []
    },
    {
      "cell_type": "markdown",
      "metadata": {
        "id": "8LersSdwus_a",
        "colab_type": "text"
      },
      "source": [
        "Перепишем нашу программу циклом For"
      ]
    },
    {
      "cell_type": "code",
      "metadata": {
        "id": "yvQyax6VuvPr",
        "colab_type": "code",
        "outputId": "c6c503c2-4092-483f-a779-a629dcb08e92",
        "colab": {
          "base_uri": "https://localhost:8080/",
          "height": 153
        }
      },
      "source": [
        "%%cu\n",
        "#include <iostream>\n",
        "\n",
        "using namespace std;\n",
        "\n",
        "int main(){\n",
        "    int summ = 0;\n",
        "\n",
        "    for (int i = 1; i <= 100; i++)\n",
        "        summ += i;\n",
        "    cout << summ;\n",
        "    return 0;\n",
        "}"
      ],
      "execution_count": 0,
      "outputs": [
        {
          "output_type": "stream",
          "text": [
            "/tmp/tmpz612oirr/02936b7a-f279-43cf-b525-59d109fcc5b3.cu(4): error: expected a declaration\n",
            "\n",
            "/tmp/tmpz612oirr/02936b7a-f279-43cf-b525-59d109fcc5b3.cu(6): error: this declaration has no storage class or type specifier\n",
            "\n",
            "/tmp/tmpz612oirr/02936b7a-f279-43cf-b525-59d109fcc5b3.cu(6): error: expected a \";\"\n",
            "\n",
            "3 errors detected in the compilation of \"/tmp/tmpxft_00001115_00000000-9_02936b7a-f279-43cf-b525-59d109fcc5b3.cpp1.ii\".\n",
            "\n"
          ],
          "name": "stdout"
        }
      ]
    },
    {
      "cell_type": "markdown",
      "metadata": {
        "id": "vol9uV7vuWZ9",
        "colab_type": "text"
      },
      "source": [
        "Выражение 1 - это иницилизация переменной. то, что происходит до запуска цикла.\n"
      ]
    },
    {
      "cell_type": "markdown",
      "metadata": {
        "id": "wgC6u-9CwS-3",
        "colab_type": "text"
      },
      "source": [
        "Выражение 2 - это условие цикла, может быть несколько\n"
      ]
    },
    {
      "cell_type": "markdown",
      "metadata": {
        "id": "Mw3X7cDEwTG9",
        "colab_type": "text"
      },
      "source": [
        "Выражение 3 - Изменение переменной цикла"
      ]
    },
    {
      "cell_type": "markdown",
      "metadata": {
        "id": "r2zgn6HUwTSD",
        "colab_type": "text"
      },
      "source": [
        "Выражение 1\n",
        "1. Иницилизироваться отдельно"
      ]
    },
    {
      "cell_type": "code",
      "metadata": {
        "id": "KIwM8--augHy",
        "colab_type": "code",
        "colab": {}
      },
      "source": [
        " \n",
        "  int i;\n",
        "  for(i = 1; i <=100;i++ )\n",
        "    summ += i;\n"
      ],
      "execution_count": 0,
      "outputs": []
    },
    {
      "cell_type": "markdown",
      "metadata": {
        "id": "zW5uXoxFvefX",
        "colab_type": "text"
      },
      "source": [
        "2. Объявление переменной в цикле вместе с иницилизацией"
      ]
    },
    {
      "cell_type": "code",
      "metadata": {
        "id": "K8Nuitjuvbzi",
        "colab_type": "code",
        "colab": {}
      },
      "source": [
        "  \n",
        "  for(int i = 1; i <=100;i++ )\n",
        "    summ += i;\n"
      ],
      "execution_count": 0,
      "outputs": []
    },
    {
      "cell_type": "markdown",
      "metadata": {
        "id": "CRbLQWRivpQz",
        "colab_type": "text"
      },
      "source": [
        "3. Просто переменная"
      ]
    },
    {
      "cell_type": "code",
      "metadata": {
        "id": "jPLJHRoDvoXI",
        "colab_type": "code",
        "colab": {}
      },
      "source": [
        "  int i = 1;\n",
        "  for(int i = 1; i <=100;i++ )\n",
        "    summ += i;\n"
      ],
      "execution_count": 0,
      "outputs": []
    },
    {
      "cell_type": "markdown",
      "metadata": {
        "id": "kb3QU1mLw6iC",
        "colab_type": "text"
      },
      "source": [
        "4. Несколько операторов соединенных запятыми\n"
      ]
    },
    {
      "cell_type": "code",
      "metadata": {
        "id": "p6egvViVxBcN",
        "colab_type": "code",
        "colab": {}
      },
      "source": [
        "for (int m = 0, n = 15;  m < 20 && n > 10; m++, n--)\n",
        "  cout << n << ' ' << m;"
      ],
      "execution_count": 0,
      "outputs": []
    },
    {
      "cell_type": "markdown",
      "metadata": {
        "id": "SQQBIbhdxe6B",
        "colab_type": "text"
      },
      "source": [
        "Изменение пмеременной цикла:\n"
      ]
    },
    {
      "cell_type": "markdown",
      "metadata": {
        "id": "9dRpYt_oxulW",
        "colab_type": "text"
      },
      "source": [
        "1. инкремент/ декремент"
      ]
    },
    {
      "cell_type": "code",
      "metadata": {
        "id": "tD2oL4hsxntQ",
        "colab_type": "code",
        "colab": {}
      },
      "source": [
        "i++; i--;"
      ],
      "execution_count": 0,
      "outputs": []
    },
    {
      "cell_type": "markdown",
      "metadata": {
        "id": "f0c-AvXhx3XQ",
        "colab_type": "text"
      },
      "source": [
        "2. Изменение значения"
      ]
    },
    {
      "cell_type": "code",
      "metadata": {
        "id": "JLzMiII_x6t9",
        "colab_type": "code",
        "colab": {}
      },
      "source": [
        "i += 10"
      ],
      "execution_count": 0,
      "outputs": []
    },
    {
      "cell_type": "markdown",
      "metadata": {
        "id": "tBYFD7vAx9Ct",
        "colab_type": "text"
      },
      "source": [
        "3. Последовательность Операторов"
      ]
    },
    {
      "cell_type": "code",
      "metadata": {
        "id": "D64Y8_JcyAdb",
        "colab_type": "code",
        "colab": {}
      },
      "source": [
        "for (int m = 0, n = 15;  m < 20 && n > 10; m++, n--)\n",
        "  cout << n << ' ' << m;"
      ],
      "execution_count": 0,
      "outputs": []
    },
    {
      "cell_type": "markdown",
      "metadata": {
        "id": "liBHlxApyFg4",
        "colab_type": "text"
      },
      "source": [
        "# Любое из полей может отсутствовать"
      ]
    },
    {
      "cell_type": "code",
      "metadata": {
        "id": "NUcxjJdGyVF7",
        "colab_type": "code",
        "colab": {}
      },
      "source": [
        "%%cu\n",
        "#include <iostream>\n",
        "\n",
        "using namespace std;\n",
        "\n",
        "int main(){\n",
        "    int i = 0;\n",
        "    for (; i <= 5;)\n",
        "      cout << i++ << endl;\n",
        "\n",
        "    return 0;\n",
        "}"
      ],
      "execution_count": 0,
      "outputs": []
    },
    {
      "cell_type": "code",
      "metadata": {
        "id": "r7OgtExzyrTF",
        "colab_type": "code",
        "colab": {}
      },
      "source": [
        "%%cu\n",
        "#include <iostream>\n",
        "\n",
        "using namespace std;\n",
        "\n",
        "int main(){\n",
        "    for (int i = 0; cout << i << endl, i < 10; i++);\n",
        "    return 0;\n",
        "}"
      ],
      "execution_count": 0,
      "outputs": []
    },
    {
      "cell_type": "code",
      "metadata": {
        "id": "9zlV82VAzS7s",
        "colab_type": "code",
        "colab": {}
      },
      "source": [
        "%%cu\n",
        "#include <iostream>\n",
        "\n",
        "using namespace std;\n",
        "\n",
        "int main(){\n",
        "    for (int i = 0; i < 10; cout << i << endl, i++);\n",
        "    return 0;\n",
        "}"
      ],
      "execution_count": 0,
      "outputs": []
    },
    {
      "cell_type": "code",
      "metadata": {
        "id": "9i94PQsZzjBl",
        "colab_type": "code",
        "outputId": "e12fdf93-b1d2-43b7-d339-c8cde2016538",
        "colab": {
          "base_uri": "https://localhost:8080/",
          "height": 85
        }
      },
      "source": [
        "%%cu\n",
        "#include <iostream>\n",
        "\n",
        "using namespace std;\n",
        "\n",
        "int main(){\n",
        "    for (int i = 0; i < 10; i++)\n",
        "      cout << i << endl;\n",
        "    cout << i;\n",
        "    return 0;\n",
        "}"
      ],
      "execution_count": 0,
      "outputs": [
        {
          "output_type": "stream",
          "text": [
            "/tmp/tmpbqs4teb3/5fae1b4e-0a6a-475d-9019-16c5778bef01.cu(8): error: identifier \"i\" is undefined\n",
            "\n",
            "1 error detected in the compilation of \"/tmp/tmpxft_00001422_00000000-9_5fae1b4e-0a6a-475d-9019-16c5778bef01.cpp1.ii\".\n",
            "\n"
          ],
          "name": "stdout"
        }
      ]
    }
  ]
}